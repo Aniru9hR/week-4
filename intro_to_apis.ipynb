{
 "cells": [
  {
   "attachments": {},
   "cell_type": "markdown",
   "metadata": {},
   "source": [
    "# Coding Temple's Data Analytics Program\n",
    "---\n",
    "## Intro to API's Assignment\n",
    "---\n",
    "### Problem 1:\n",
    "Check out this Pokemon API https://pokeapi.co/\n",
    "Use the requests package to connect to this API and get and store data for 5 different pokemon.\n",
    "Get the pokemons: name, atleast one ability's name, base_experience, and the URL for its sprite (an image that shows up on screen) for the 'front_shiny', attack base_state, hp base_stat, defense base_stat\n",
    "\n",
    "**BONUS POINTS IF YOU CAN POPULATE THE IMAGE!**"
   ]
  },
  {
   "cell_type": "code",
   "execution_count": 174,
   "metadata": {},
   "outputs": [
    {
     "name": "stdout",
     "output_type": "stream",
     "text": [
      "<Response [200]>\n",
      "name : bulbasaur\n",
      "abilities: overgrow\n",
      "base_experience : 64\n",
      "front_shiny : https://raw.githubusercontent.com/PokeAPI/sprites/master/sprites/pokemon/shiny/1.png\n",
      "hp : https://pokeapi.co/api/v2/stat/1/\n",
      "attack : https://pokeapi.co/api/v2/stat/2/\n",
      "defense : https://pokeapi.co/api/v2/stat/3/\n",
      "name : ivysaur\n",
      "abilities: overgrow\n",
      "base_experience : 142\n",
      "front_shiny : https://raw.githubusercontent.com/PokeAPI/sprites/master/sprites/pokemon/shiny/2.png\n",
      "hp : https://pokeapi.co/api/v2/stat/1/\n",
      "attack : https://pokeapi.co/api/v2/stat/2/\n",
      "defense : https://pokeapi.co/api/v2/stat/3/\n",
      "name : venusaur\n",
      "abilities: overgrow\n",
      "base_experience : 263\n",
      "front_shiny : https://raw.githubusercontent.com/PokeAPI/sprites/master/sprites/pokemon/shiny/3.png\n",
      "hp : https://pokeapi.co/api/v2/stat/1/\n",
      "attack : https://pokeapi.co/api/v2/stat/2/\n",
      "defense : https://pokeapi.co/api/v2/stat/3/\n",
      "name : charmander\n",
      "abilities: blaze\n",
      "base_experience : 62\n",
      "front_shiny : https://raw.githubusercontent.com/PokeAPI/sprites/master/sprites/pokemon/shiny/4.png\n",
      "hp : https://pokeapi.co/api/v2/stat/1/\n",
      "attack : https://pokeapi.co/api/v2/stat/2/\n",
      "defense : https://pokeapi.co/api/v2/stat/3/\n",
      "name : charmeleon\n",
      "abilities: blaze\n",
      "base_experience : 142\n",
      "front_shiny : https://raw.githubusercontent.com/PokeAPI/sprites/master/sprites/pokemon/shiny/5.png\n",
      "hp : https://pokeapi.co/api/v2/stat/1/\n",
      "attack : https://pokeapi.co/api/v2/stat/2/\n",
      "defense : https://pokeapi.co/api/v2/stat/3/\n"
     ]
    }
   ],
   "source": [
    "import requests, json\n",
    "url= 'https://pokeapi.co/api/v2/pokemon?limit=5&offset=0'\n",
    "response = requests.get(url)\n",
    "if response.status_code == 200:\n",
    "  response_body = response.json()\n",
    "  print(response)\n",
    "  pokemon  = response_body[\"results\"]\n",
    "  for x in pokemon:\n",
    "      print(\"name :\",x.get(\"name\"))\n",
    "      ability_url = x.get(\"url\")\n",
    "      poke_response = requests.get(ability_url).json()\n",
    "      #print(poke_response)\n",
    "      poke_abilities = poke_response[\"abilities\"]\n",
    "      poke_abilities_name = poke_abilities[0].get(\"ability\").get(\"name\")\n",
    "      print(\"abilities:\",poke_abilities_name)\n",
    "      poke_base_experience = poke_response.get(\"base_experience\")\n",
    "      print(\"base_experience :\",poke_base_experience)\n",
    "      poke_image_url = poke_response.get(\"sprites\").get(\"front_shiny\")\n",
    "      print(\"front_shiny :\",poke_image_url)\n",
    "      poke_stat = poke_response.get(\"stats\")\n",
    "      for stat in poke_stat:\n",
    "        if stat.get(\"stat\").get(\"name\") == \"hp\":\n",
    "          print(stat.get(\"stat\").get(\"name\") ,\":\", stat.get(\"stat\").get(\"url\"))\n",
    "        elif stat.get(\"stat\").get(\"name\") == \"attack\":\n",
    "          print(stat.get(\"stat\").get(\"name\") ,\":\", stat.get(\"stat\").get(\"url\"))\n",
    "        elif stat.get(\"stat\").get(\"name\") == \"defense\":\n",
    "          print(stat.get(\"stat\").get(\"name\") ,\":\", stat.get(\"stat\").get(\"url\"))\n",
    "else:\n",
    "  print (response)\n",
    "\n",
    "\n",
    "\n"
   ]
  },
  {
   "attachments": {},
   "cell_type": "markdown",
   "metadata": {},
   "source": [
    "### Problem 2:\n",
    "\n",
    "I want to build the best Pokemon team I can and I need your help to do so! Using the API, build me a team of 6 pokemon who's base-stats are above 60. Return any additional information you think is needed to help understand why you chose that pokemon for the team!"
   ]
  },
  {
   "cell_type": "code",
   "execution_count": 141,
   "metadata": {},
   "outputs": [
    {
     "name": "stdout",
     "output_type": "stream",
     "text": [
      "[{'name': 'bulbasaur', 'stat': {'base_stat': 65, 'effort': 1, 'stat': {'name': 'special-attack', 'url': 'https://pokeapi.co/api/v2/stat/4/'}}}, {'name': 'ivysaur', 'stat': {'base_stat': 80, 'effort': 1, 'stat': {'name': 'special-attack', 'url': 'https://pokeapi.co/api/v2/stat/4/'}}}, {'name': 'venusaur', 'stat': {'base_stat': 100, 'effort': 2, 'stat': {'name': 'special-attack', 'url': 'https://pokeapi.co/api/v2/stat/4/'}}}, {'name': 'charmeleon', 'stat': {'base_stat': 80, 'effort': 1, 'stat': {'name': 'special-attack', 'url': 'https://pokeapi.co/api/v2/stat/4/'}}}, {'name': 'charizard', 'stat': {'base_stat': 109, 'effort': 3, 'stat': {'name': 'special-attack', 'url': 'https://pokeapi.co/api/v2/stat/4/'}}}, {'name': 'wartortle', 'stat': {'base_stat': 65, 'effort': 0, 'stat': {'name': 'special-attack', 'url': 'https://pokeapi.co/api/v2/stat/4/'}}}]\n"
     ]
    }
   ],
   "source": [
    "url= 'https://pokeapi.co/api/v2/pokemon?limit=1000&offset=0'\n",
    "response = requests.get(url).json()\n",
    "pokemon  = response[\"results\"]\n",
    "pokemon_list = []\n",
    "for x in pokemon:\n",
    "    if len(pokemon_list) == 6:\n",
    "     break \n",
    "    name = x.get(\"name\")\n",
    "    ability_url = x.get(\"url\")\n",
    "    poke_response = requests.get(ability_url).json()\n",
    "    #print(poke_response)\n",
    "    poke_abilities = poke_response[\"abilities\"]\n",
    "    poke_abilities_name = poke_abilities[0].get(\"ability\").get(\"name\")\n",
    "    # print(poke_abilities_name)\n",
    "    poke_stat = poke_response.get(\"stats\")\n",
    "    for stat in poke_stat:\n",
    "      if stat.get(\"stat\").get(\"name\") == \"special-attack\" and stat.get(\"base_stat\") > 60 :\n",
    "        selected_pokemon = {\"name\":name,\"stat\":stat }\n",
    "        pokemon_list.append(selected_pokemon)    \n",
    "print(pokemon_list)\n",
    "      "
   ]
  },
  {
   "attachments": {},
   "cell_type": "markdown",
   "metadata": {},
   "source": [
    "### Problem 3:\n",
    "\n",
    "Create a function that does the following:\n",
    "* Input: pokemon_name(user_defined) -> str\n",
    "* Output: list object containing a dictionary of values from the response object.\n",
    "* Please include the type, the most current raritey level, at least one held item, and all stats"
   ]
  },
  {
   "cell_type": "code",
   "execution_count": 169,
   "metadata": {},
   "outputs": [
    {
     "name": "stdout",
     "output_type": "stream",
     "text": [
      "<Response [200]>\n",
      "[{'type': [{'slot': 1, 'type': {'name': 'fairy', 'url': 'https://pokeapi.co/api/v2/type/18/'}}], 'held_item': {'name': 'moon-stone', 'url': 'https://pokeapi.co/api/v2/item/81/'}, 'rarity': {'rarity': 5, 'version': {'name': 'ultra-moon', 'url': 'https://pokeapi.co/api/v2/version/30/'}}, 'stats': [{'base_stat': 70, 'effort': 2, 'stat': {'name': 'hp', 'url': 'https://pokeapi.co/api/v2/stat/1/'}}, {'base_stat': 45, 'effort': 0, 'stat': {'name': 'attack', 'url': 'https://pokeapi.co/api/v2/stat/2/'}}, {'base_stat': 48, 'effort': 0, 'stat': {'name': 'defense', 'url': 'https://pokeapi.co/api/v2/stat/3/'}}, {'base_stat': 60, 'effort': 0, 'stat': {'name': 'special-attack', 'url': 'https://pokeapi.co/api/v2/stat/4/'}}, {'base_stat': 65, 'effort': 0, 'stat': {'name': 'special-defense', 'url': 'https://pokeapi.co/api/v2/stat/5/'}}, {'base_stat': 35, 'effort': 0, 'stat': {'name': 'speed', 'url': 'https://pokeapi.co/api/v2/stat/6/'}}]}]\n"
     ]
    }
   ],
   "source": [
    "import requests, json\n",
    "def get_pokemon_details(poke_name):\n",
    "    url= 'https://pokeapi.co/api/v2/pokemon/'+poke_name\n",
    "    response_code = requests.get(url)\n",
    "    print(response_code)\n",
    "    if response_code.status_code == 200:\n",
    "        response = response_code.json()\n",
    "        poke_type = response.get(\"types\")\n",
    "        stats = response.get(\"stats\")\n",
    "        held_item = \"\"\n",
    "        rarity = \"\"\n",
    "        if response.get(\"held_items\"):\n",
    "            held_item = response.get(\"held_items\")[0].get(\"item\")\n",
    "            rarity = response.get(\"held_items\")[0].get(\"version_details\")[-1]\n",
    "        poke_list = [{\"type\": poke_type, \"held_item\":held_item, \"rarity\" : rarity, \"stats\":stats }]\n",
    "        print(poke_list)\n",
    "    else:\n",
    "        print(poke_name, \"does not exist\")\n",
    "\n",
    "name = input(\"Enter pokemon name :\")\n",
    "get_pokemon_details(name)\n",
    "\n"
   ]
  }
 ],
 "metadata": {
  "kernelspec": {
   "display_name": "Python 3",
   "language": "python",
   "name": "python3"
  },
  "language_info": {
   "codemirror_mode": {
    "name": "ipython",
    "version": 3
   },
   "file_extension": ".py",
   "mimetype": "text/x-python",
   "name": "python",
   "nbconvert_exporter": "python",
   "pygments_lexer": "ipython3",
   "version": "3.10.11"
  },
  "orig_nbformat": 4,
  "vscode": {
   "interpreter": {
    "hash": "26de051ba29f2982a8de78e945f0abaf191376122a1563185a90213a26c5da77"
   }
  }
 },
 "nbformat": 4,
 "nbformat_minor": 2
}
